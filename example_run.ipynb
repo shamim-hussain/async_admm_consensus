{
  "nbformat": 4,
  "nbformat_minor": 0,
  "metadata": {
    "colab": {
      "name": "example_run_async_admm.ipynb",
      "provenance": [],
      "collapsed_sections": [],
      "toc_visible": true,
      "authorship_tag": "ABX9TyOY+hQ0RbZMm8JOicXbKl6/",
      "include_colab_link": true
    },
    "kernelspec": {
      "name": "python3",
      "display_name": "Python 3"
    },
    "accelerator": "GPU"
  },
  "cells": [
    {
      "cell_type": "markdown",
      "metadata": {
        "id": "view-in-github",
        "colab_type": "text"
      },
      "source": [
        "<a href=\"https://colab.research.google.com/github/shamim-hussain/async_admm_consensus/blob/master/example_run.ipynb\" target=\"_parent\"><img src=\"https://colab.research.google.com/assets/colab-badge.svg\" alt=\"Open In Colab\"/></a>"
      ]
    },
    {
      "cell_type": "markdown",
      "metadata": {
        "id": "PxPvCBH16W8e"
      },
      "source": [
        "# Asychronous ADMM for Consensus Optimization\n",
        "This notebook demonstrates how to run and evaluate the python implementation of the asynchronous ADMM algorithm available at\n",
        "\n",
        "https://github.com/shamim-hussain/async_admm_consensus\n",
        "\n",
        "This notebook is runnable on [Google Colaboratory](https://colab.research.google.com)"
      ]
    },
    {
      "cell_type": "markdown",
      "metadata": {
        "id": "tg7vnJdY7NnG"
      },
      "source": [
        "## Cloning The repository"
      ]
    },
    {
      "cell_type": "code",
      "metadata": {
        "colab": {
          "base_uri": "https://localhost:8080/"
        },
        "id": "9b2znl6ioFrA",
        "outputId": "30487ceb-7f14-4073-d3f4-36b8d2772af9"
      },
      "source": [
        "!git clone https://github.com/shamim-hussain/async_admm_consensus.git\n",
        "\n",
        "%cd async_admm_consensus/"
      ],
      "execution_count": 1,
      "outputs": [
        {
          "output_type": "stream",
          "text": [
            "Cloning into 'async_admm_consensus'...\n",
            "remote: Enumerating objects: 262, done.\u001b[K\n",
            "remote: Counting objects: 100% (262/262), done.\u001b[K\n",
            "remote: Compressing objects: 100% (202/202), done.\u001b[K\n",
            "remote: Total 262 (delta 111), reused 199 (delta 56), pack-reused 0\u001b[K\n",
            "Receiving objects: 100% (262/262), 18.06 MiB | 22.83 MiB/s, done.\n",
            "Resolving deltas: 100% (111/111), done.\n",
            "/content/async_admm_consensus\n"
          ],
          "name": "stdout"
        }
      ]
    },
    {
      "cell_type": "markdown",
      "metadata": {
        "id": "k3MpY6ZG7caF"
      },
      "source": [
        "## Files Description\n",
        "\n",
        "\n",
        "\n",
        "*   The main scripts are *mnist_avg.py* and *mnist_logistic.py* which are experiments designed to average the MNIST dataset and run Multiclass Logistic Regression on the MNIST dataset respectively.\n",
        "\n",
        "\n",
        "\n",
        ">> You need to specify the process id when running these files. \n",
        "*   A *(process id) = (# of workers)* corresponds to the master\n",
        "*   A process id from *0* to *(# of workers - 1)* are different workers\n",
        "\n",
        ">> The results are generated in the logs directory.\n",
        "\n",
        "\n",
        "*   The *run_workers.sh* bash script is a tool to spawn multiple processes including all workers and the master.\n",
        "*   The *plotting_tool.py* file can be used to produce plots from the logs.\n",
        "*   *mnist.npz* and *mnist_14.npz* are 28x28 and 14x14 versions of the MNIST dataset respectively.\n",
        "*   *admm.py* and *tcp_server.py* are library files used by the main scripts.\n",
        "\n"
      ]
    },
    {
      "cell_type": "code",
      "metadata": {
        "colab": {
          "base_uri": "https://localhost:8080/"
        },
        "id": "Pd0nM_a27r3l",
        "outputId": "cda1d52d-42ef-4492-9cbf-44360ba4a0ff"
      },
      "source": [
        "!ls"
      ],
      "execution_count": 2,
      "outputs": [
        {
          "output_type": "stream",
          "text": [
            "admm.py\t\t   mnist_14.npz       mnist.npz\t\trun_workers.sh\n",
            "example_run.ipynb  mnist_avg.py       plotting_tool.py\ttcp_server.py\n",
            "final_results\t   mnist_logistic.py  README.md\n"
          ],
          "name": "stdout"
        }
      ]
    },
    {
      "cell_type": "code",
      "metadata": {
        "colab": {
          "base_uri": "https://localhost:8080/"
        },
        "id": "v5eMsIOeAHql",
        "outputId": "f455ce1f-e096-495e-e3db-87c066325ac0"
      },
      "source": [
        "!bash run_workers.sh --help"
      ],
      "execution_count": 3,
      "outputs": [
        {
          "output_type": "stream",
          "text": [
            "run_workers.sh script num_worker port beta S tau steps num_gpu worker_range\n"
          ],
          "name": "stdout"
        }
      ]
    },
    {
      "cell_type": "markdown",
      "metadata": {
        "id": "D0EWmf8y7lWt"
      },
      "source": [
        "## Averaging MNIST\n",
        "We will be running the *mnist_avg.py* file using *run_workers.sh*. We will use *N=2* workers (3 processes in total) and a single GPU (available on colab).\n",
        "> NB: In a command line environment you can simply plug in the arguments to the script but for the sake of lucidity broke down each argurment and added comment."
      ]
    },
    {
      "cell_type": "code",
      "metadata": {
        "colab": {
          "base_uri": "https://localhost:8080/"
        },
        "id": "mo1HCCMboa4n",
        "outputId": "72947116-178e-47f5-ffa5-08b4015cd7c4"
      },
      "source": [
        "script      = \"mnist_avg.py\"  # Script to be run\n",
        "num_worker  = 2               # No. of workers\n",
        "port        = 33348           # Port to be used for TCP communication\n",
        "beta        = 10.0            # Value of beta parameter of admm\n",
        "S           = 2               # Partial barrier parameter\n",
        "tau         = 1               # Bounded delay parameter\n",
        "steps       = 200             # Number of steps to run the algorithm\n",
        "num_gpu     = 1               # Number of gpus to use, set = 0 for cpu only\n",
        "worker_range= \"0-2\"           # Range of workers {0,1,2(master)}\n",
        "\n",
        "!bash run_workers.sh $script $num_worker $port $beta $S $tau $steps $num_gpu $worker_range"
      ],
      "execution_count": 4,
      "outputs": [
        {
          "output_type": "stream",
          "text": [
            "----------------------------------\n",
            "num_worker = 2\n",
            "beta = 10.0\n",
            "S = 2\n",
            "tau = 1\n",
            "steps = 200\n",
            "num_gpu = 1\n",
            "from = 0\n",
            "to = 2\n",
            "----------------------------------\n",
            "Starting MASTER\n",
            "Starting WORKER:0\n",
            "Starting WORKER:1\n",
            "[1]   Running                 python $script $num_worker $num_worker $port --beta $beta --S $S --tau $tau --steps $steps --device cuda:0 &\n",
            "[2]-  Running                 python $script $num_worker $w_i $port --beta $beta --S $S --tau $tau --steps $steps --device cuda:$(expr $w_i % $num_gpu) &\n",
            "[3]+  Running                 python $script $num_worker $w_i $port --beta $beta --S $S --tau $tau --steps $steps --device cuda:$(expr $w_i % $num_gpu) &\n",
            "Worker:1 failed to connect to address ('localhost', 33348). Retrying in 1 second...\n",
            "Started listening on address ('localhost', 33348)\n",
            "Worker:0 connected to address ('localhost', 33348)\n",
            "Connection 0 connected.\n",
            "Worker:1 connected to address ('localhost', 33348)\n",
            "Connection 1 connected.\n",
            "Started computing!\n",
            "Optimization Ended, calculating objective values.\n",
            "Done!\n"
          ],
          "name": "stdout"
        }
      ]
    },
    {
      "cell_type": "code",
      "metadata": {
        "colab": {
          "base_uri": "https://localhost:8080/"
        },
        "cellView": "form",
        "id": "O3T2--ucEAXF",
        "outputId": "ef791d95-91d9-445f-a53c-402be5cc9f5d"
      },
      "source": [
        "#@title The results have been generated in the log directory\n",
        "!ls logs -R | grep \":$\" | sed -e 's/:$//' -e 's/[^-][^\\/]*\\//--/g' -e 's/^/   /' -e 's/-/|/'"
      ],
      "execution_count": 5,
      "outputs": [
        {
          "output_type": "stream",
          "text": [
            "   logs\n",
            "   |-mnist_avg\n",
            "   |---S=2 tau=1\n"
          ],
          "name": "stdout"
        }
      ]
    },
    {
      "cell_type": "markdown",
      "metadata": {
        "id": "fu3zy6R3FJCt"
      },
      "source": [
        "### Viewing the results"
      ]
    },
    {
      "cell_type": "markdown",
      "metadata": {
        "id": "VnMO-FqUGXkv"
      },
      "source": [
        "Objective vs steps/wall_time"
      ]
    },
    {
      "cell_type": "code",
      "metadata": {
        "id": "ox_OI_-YrXWf",
        "colab": {
          "base_uri": "https://localhost:8080/",
          "height": 226
        },
        "outputId": "1deb76b4-919c-4822-8365-b07374cf1862"
      },
      "source": [
        "import pandas as pd\n",
        "import matplotlib.pyplot as plt\n",
        "\n",
        "\n",
        "dataframe = pd.read_pickle('logs/mnist_avg/S=2 tau=1/logs.pkl')\n",
        "\n",
        "fig = plt.figure(figsize=[12,3])\n",
        "\n",
        "ax1, ax2 = fig.subplots(1,2,sharey=True)\n",
        "dataframe.plot(x='global_step',y='objective',ax=ax1)\n",
        "dataframe.plot(x='wall_time',y='objective',ax=ax2)\n",
        "\n",
        "fig.show()"
      ],
      "execution_count": 6,
      "outputs": [
        {
          "output_type": "display_data",
          "data": {
            "image/png": "[encoded data removed]",
            "text/plain": [
              "<Figure size 864x216 with 2 Axes>"
            ]
          },
          "metadata": {
            "tags": [],
            "needs_background": "light"
          }
        }
      ]
    },
    {
      "cell_type": "markdown",
      "metadata": {
        "id": "Y6Yq5H5dHnk1"
      },
      "source": [
        "The result of averaging."
      ]
    },
    {
      "cell_type": "code",
      "metadata": {
        "id": "MHsm3LOmx07A",
        "colab": {
          "base_uri": "https://localhost:8080/",
          "height": 248
        },
        "outputId": "a1d5ea1e-cd3c-4440-f3ef-6d54abf407e0"
      },
      "source": [
        "import numpy as np\n",
        "\n",
        "avg = np.load('logs/mnist_avg/S=2 tau=1/results.npy')\n",
        "\n",
        "fig = plt.figure()\n",
        "plt.imshow(avg.reshape(28,28),cmap='gray')\n",
        "plt.axis('off')\n",
        "fig.show()"
      ],
      "execution_count": 7,
      "outputs": [
        {
          "output_type": "display_data",
          "data": {
            "image/png": "[encoded data removed]",
            "text/plain": [
              "<Figure size 432x288 with 1 Axes>"
            ]
          },
          "metadata": {
            "tags": [],
            "needs_background": "light"
          }
        }
      ]
    },
    {
      "cell_type": "markdown",
      "metadata": {
        "id": "rRtRkTpqIOUm"
      },
      "source": [
        "## MNIST Classification\n",
        "Similiarly, we will be running the *mnist_logistic.py* file using *run_workers.sh*. We will use *N=2* workers (3 processes in total) and a single GPU (available on colab)."
      ]
    },
    {
      "cell_type": "code",
      "metadata": {
        "colab": {
          "base_uri": "https://localhost:8080/",
          "height": 770
        },
        "id": "iqF7srzaIJUn",
        "outputId": "37934618-eab9-49ea-d95b-fcfb842408ff"
      },
      "source": [
        "script      = \"mnist_logistic.py\"  # Script to be run\n",
        "num_worker  = 2               # No. of workers\n",
        "port        = 33349           # Port to be used for TCP communication\n",
        "beta        = 1.0             # Value of beta parameter of admm\n",
        "S           = 2               # Partial barrier parameter\n",
        "tau         = 1               # Bounded delay parameter\n",
        "steps       = 200             # Number of steps to run the algorithm\n",
        "num_gpu     = 1               # Number of gpus to use, set = 0 for cpu only\n",
        "worker_range= \"0-2\"           # Range of workers {0,1,2(master)}\n",
        "\n",
        "!bash run_workers.sh $script $num_worker $port $beta $S $tau $steps $num_gpu $worker_range"
      ],
      "execution_count": 8,
      "outputs": [
        {
          "output_type": "stream",
          "text": [
            "----------------------------------\n",
            "num_worker = 2\n",
            "beta = 1.0\n",
            "S = 2\n",
            "tau = 1\n",
            "steps = 200\n",
            "num_gpu = 1\n",
            "from = 0\n",
            "to = 2\n",
            "----------------------------------\n",
            "Starting MASTER\n",
            "Starting WORKER:0\n",
            "Starting WORKER:1\n",
            "[1]   Running                 python $script $num_worker $num_worker $port --beta $beta --S $S --tau $tau --steps $steps --device cuda:0 &\n",
            "[2]-  Running                 python $script $num_worker $w_i $port --beta $beta --S $S --tau $tau --steps $steps --device cuda:$(expr $w_i % $num_gpu) &\n",
            "[3]+  Running                 python $script $num_worker $w_i $port --beta $beta --S $S --tau $tau --steps $steps --device cuda:$(expr $w_i % $num_gpu) &\n",
            "Started listening on address ('localhost', 33349)\n",
            "Connection 0 connected.\n",
            "Worker:0 connected to address ('localhost', 33349)\n",
            "Worker:1 connected to address ('localhost', 33349)\n",
            "Connection 1 connected.\n",
            "Started computing!\n",
            "Optimization Ended, calculating objective values.\n",
            "Done!\n"
          ],
          "name": "stdout"
        },
        {
          "output_type": "error",
          "ename": "KeyboardInterrupt",
          "evalue": "ignored",
          "traceback": [
            "\u001b[0;31m---------------------------------------------------------------------------\u001b[0m",
            "\u001b[0;31mKeyboardInterrupt\u001b[0m                         Traceback (most recent call last)",
            "\u001b[0;32m<ipython-input-8-04183ce5c266>\u001b[0m in \u001b[0;36m<module>\u001b[0;34m()\u001b[0m\n\u001b[1;32m      9\u001b[0m \u001b[0mworker_range\u001b[0m\u001b[0;34m=\u001b[0m \u001b[0;34m\"0-2\"\u001b[0m           \u001b[0;31m# Range of workers {0,1,2(master)}\u001b[0m\u001b[0;34m\u001b[0m\u001b[0;34m\u001b[0m\u001b[0m\n\u001b[1;32m     10\u001b[0m \u001b[0;34m\u001b[0m\u001b[0m\n\u001b[0;32m---> 11\u001b[0;31m \u001b[0mget_ipython\u001b[0m\u001b[0;34m(\u001b[0m\u001b[0;34m)\u001b[0m\u001b[0;34m.\u001b[0m\u001b[0msystem\u001b[0m\u001b[0;34m(\u001b[0m\u001b[0;34m'bash run_workers.sh $script $num_worker $port $beta $S $tau $steps $num_gpu $worker_range'\u001b[0m\u001b[0;34m)\u001b[0m\u001b[0;34m\u001b[0m\u001b[0;34m\u001b[0m\u001b[0m\n\u001b[0m",
            "\u001b[0;32m/usr/local/lib/python3.6/dist-packages/google/colab/_shell.py\u001b[0m in \u001b[0;36msystem\u001b[0;34m(self, *args, **kwargs)\u001b[0m\n\u001b[1;32m    100\u001b[0m       \u001b[0mkwargs\u001b[0m\u001b[0;34m.\u001b[0m\u001b[0mupdate\u001b[0m\u001b[0;34m(\u001b[0m\u001b[0;34m{\u001b[0m\u001b[0;34m'also_return_output'\u001b[0m\u001b[0;34m:\u001b[0m \u001b[0;32mTrue\u001b[0m\u001b[0;34m}\u001b[0m\u001b[0;34m)\u001b[0m\u001b[0;34m\u001b[0m\u001b[0;34m\u001b[0m\u001b[0m\n\u001b[1;32m    101\u001b[0m \u001b[0;34m\u001b[0m\u001b[0m\n\u001b[0;32m--> 102\u001b[0;31m     \u001b[0moutput\u001b[0m \u001b[0;34m=\u001b[0m \u001b[0m_system_commands\u001b[0m\u001b[0;34m.\u001b[0m\u001b[0m_system_compat\u001b[0m\u001b[0;34m(\u001b[0m\u001b[0mself\u001b[0m\u001b[0;34m,\u001b[0m \u001b[0;34m*\u001b[0m\u001b[0margs\u001b[0m\u001b[0;34m,\u001b[0m \u001b[0;34m**\u001b[0m\u001b[0mkwargs\u001b[0m\u001b[0;34m)\u001b[0m  \u001b[0;31m# pylint:disable=protected-access\u001b[0m\u001b[0;34m\u001b[0m\u001b[0;34m\u001b[0m\u001b[0m\n\u001b[0m\u001b[1;32m    103\u001b[0m \u001b[0;34m\u001b[0m\u001b[0m\n\u001b[1;32m    104\u001b[0m     \u001b[0;32mif\u001b[0m \u001b[0mpip_warn\u001b[0m\u001b[0;34m:\u001b[0m\u001b[0;34m\u001b[0m\u001b[0;34m\u001b[0m\u001b[0m\n",
            "\u001b[0;32m/usr/local/lib/python3.6/dist-packages/google/colab/_system_commands.py\u001b[0m in \u001b[0;36m_system_compat\u001b[0;34m(shell, cmd, also_return_output)\u001b[0m\n\u001b[1;32m    438\u001b[0m   \u001b[0;31m# stack.\u001b[0m\u001b[0;34m\u001b[0m\u001b[0;34m\u001b[0m\u001b[0;34m\u001b[0m\u001b[0m\n\u001b[1;32m    439\u001b[0m   result = _run_command(\n\u001b[0;32m--> 440\u001b[0;31m       shell.var_expand(cmd, depth=2), clear_streamed_output=False)\n\u001b[0m\u001b[1;32m    441\u001b[0m   \u001b[0mshell\u001b[0m\u001b[0;34m.\u001b[0m\u001b[0muser_ns\u001b[0m\u001b[0;34m[\u001b[0m\u001b[0;34m'_exit_code'\u001b[0m\u001b[0;34m]\u001b[0m \u001b[0;34m=\u001b[0m \u001b[0mresult\u001b[0m\u001b[0;34m.\u001b[0m\u001b[0mreturncode\u001b[0m\u001b[0;34m\u001b[0m\u001b[0;34m\u001b[0m\u001b[0m\n\u001b[1;32m    442\u001b[0m   \u001b[0;32mif\u001b[0m \u001b[0;34m-\u001b[0m\u001b[0mresult\u001b[0m\u001b[0;34m.\u001b[0m\u001b[0mreturncode\u001b[0m \u001b[0;32min\u001b[0m \u001b[0m_INTERRUPTED_SIGNALS\u001b[0m\u001b[0;34m:\u001b[0m\u001b[0;34m\u001b[0m\u001b[0;34m\u001b[0m\u001b[0m\n",
            "\u001b[0;32m/usr/local/lib/python3.6/dist-packages/google/colab/_system_commands.py\u001b[0m in \u001b[0;36m_run_command\u001b[0;34m(cmd, clear_streamed_output)\u001b[0m\n\u001b[1;32m    193\u001b[0m       \u001b[0mos\u001b[0m\u001b[0;34m.\u001b[0m\u001b[0mclose\u001b[0m\u001b[0;34m(\u001b[0m\u001b[0mchild_pty\u001b[0m\u001b[0;34m)\u001b[0m\u001b[0;34m\u001b[0m\u001b[0;34m\u001b[0m\u001b[0m\n\u001b[1;32m    194\u001b[0m \u001b[0;34m\u001b[0m\u001b[0m\n\u001b[0;32m--> 195\u001b[0;31m       \u001b[0;32mreturn\u001b[0m \u001b[0m_monitor_process\u001b[0m\u001b[0;34m(\u001b[0m\u001b[0mparent_pty\u001b[0m\u001b[0;34m,\u001b[0m \u001b[0mepoll\u001b[0m\u001b[0;34m,\u001b[0m \u001b[0mp\u001b[0m\u001b[0;34m,\u001b[0m \u001b[0mcmd\u001b[0m\u001b[0;34m,\u001b[0m \u001b[0mupdate_stdin_widget\u001b[0m\u001b[0;34m)\u001b[0m\u001b[0;34m\u001b[0m\u001b[0;34m\u001b[0m\u001b[0m\n\u001b[0m\u001b[1;32m    196\u001b[0m   \u001b[0;32mfinally\u001b[0m\u001b[0;34m:\u001b[0m\u001b[0;34m\u001b[0m\u001b[0;34m\u001b[0m\u001b[0m\n\u001b[1;32m    197\u001b[0m     \u001b[0mepoll\u001b[0m\u001b[0;34m.\u001b[0m\u001b[0mclose\u001b[0m\u001b[0;34m(\u001b[0m\u001b[0;34m)\u001b[0m\u001b[0;34m\u001b[0m\u001b[0;34m\u001b[0m\u001b[0m\n",
            "\u001b[0;32m/usr/local/lib/python3.6/dist-packages/google/colab/_system_commands.py\u001b[0m in \u001b[0;36m_monitor_process\u001b[0;34m(parent_pty, epoll, p, cmd, update_stdin_widget)\u001b[0m\n\u001b[1;32m    220\u001b[0m   \u001b[0;32mwhile\u001b[0m \u001b[0;32mTrue\u001b[0m\u001b[0;34m:\u001b[0m\u001b[0;34m\u001b[0m\u001b[0;34m\u001b[0m\u001b[0m\n\u001b[1;32m    221\u001b[0m     \u001b[0;32mtry\u001b[0m\u001b[0;34m:\u001b[0m\u001b[0;34m\u001b[0m\u001b[0;34m\u001b[0m\u001b[0m\n\u001b[0;32m--> 222\u001b[0;31m       \u001b[0mresult\u001b[0m \u001b[0;34m=\u001b[0m \u001b[0m_poll_process\u001b[0m\u001b[0;34m(\u001b[0m\u001b[0mparent_pty\u001b[0m\u001b[0;34m,\u001b[0m \u001b[0mepoll\u001b[0m\u001b[0;34m,\u001b[0m \u001b[0mp\u001b[0m\u001b[0;34m,\u001b[0m \u001b[0mcmd\u001b[0m\u001b[0;34m,\u001b[0m \u001b[0mdecoder\u001b[0m\u001b[0;34m,\u001b[0m \u001b[0mstate\u001b[0m\u001b[0;34m)\u001b[0m\u001b[0;34m\u001b[0m\u001b[0;34m\u001b[0m\u001b[0m\n\u001b[0m\u001b[1;32m    223\u001b[0m       \u001b[0;32mif\u001b[0m \u001b[0mresult\u001b[0m \u001b[0;32mis\u001b[0m \u001b[0;32mnot\u001b[0m \u001b[0;32mNone\u001b[0m\u001b[0;34m:\u001b[0m\u001b[0;34m\u001b[0m\u001b[0;34m\u001b[0m\u001b[0m\n\u001b[1;32m    224\u001b[0m         \u001b[0;32mreturn\u001b[0m \u001b[0mresult\u001b[0m\u001b[0;34m\u001b[0m\u001b[0;34m\u001b[0m\u001b[0m\n",
            "\u001b[0;32m/usr/local/lib/python3.6/dist-packages/google/colab/_system_commands.py\u001b[0m in \u001b[0;36m_poll_process\u001b[0;34m(parent_pty, epoll, p, cmd, decoder, state)\u001b[0m\n\u001b[1;32m    267\u001b[0m   \u001b[0moutput_available\u001b[0m \u001b[0;34m=\u001b[0m \u001b[0;32mFalse\u001b[0m\u001b[0;34m\u001b[0m\u001b[0;34m\u001b[0m\u001b[0m\n\u001b[1;32m    268\u001b[0m \u001b[0;34m\u001b[0m\u001b[0m\n\u001b[0;32m--> 269\u001b[0;31m   \u001b[0mevents\u001b[0m \u001b[0;34m=\u001b[0m \u001b[0mepoll\u001b[0m\u001b[0;34m.\u001b[0m\u001b[0mpoll\u001b[0m\u001b[0;34m(\u001b[0m\u001b[0;34m)\u001b[0m\u001b[0;34m\u001b[0m\u001b[0;34m\u001b[0m\u001b[0m\n\u001b[0m\u001b[1;32m    270\u001b[0m   \u001b[0minput_events\u001b[0m \u001b[0;34m=\u001b[0m \u001b[0;34m[\u001b[0m\u001b[0;34m]\u001b[0m\u001b[0;34m\u001b[0m\u001b[0;34m\u001b[0m\u001b[0m\n\u001b[1;32m    271\u001b[0m   \u001b[0;32mfor\u001b[0m \u001b[0m_\u001b[0m\u001b[0;34m,\u001b[0m \u001b[0mevent\u001b[0m \u001b[0;32min\u001b[0m \u001b[0mevents\u001b[0m\u001b[0;34m:\u001b[0m\u001b[0;34m\u001b[0m\u001b[0;34m\u001b[0m\u001b[0m\n",
            "\u001b[0;31mKeyboardInterrupt\u001b[0m: "
          ]
        }
      ]
    },
    {
      "cell_type": "code",
      "metadata": {
        "colab": {
          "base_uri": "https://localhost:8080/"
        },
        "cellView": "form",
        "id": "WUdgMpU6IJUo",
        "outputId": "48aeeee7-4bde-401f-b0c6-624f1589a4a5"
      },
      "source": [
        "#@title The results have been generated in the log directory\n",
        "!ls logs -R | grep \":$\" | sed -e 's/:$//' -e 's/[^-][^\\/]*\\//--/g' -e 's/^/   /' -e 's/-/|/'"
      ],
      "execution_count": 9,
      "outputs": [
        {
          "output_type": "stream",
          "text": [
            "   logs\n",
            "   |-mnist_avg\n",
            "   |---S=2 tau=1\n",
            "   |-mnist_logistic\n",
            "   |---S=2 tau=1\n"
          ],
          "name": "stdout"
        }
      ]
    },
    {
      "cell_type": "markdown",
      "metadata": {
        "id": "MEBZKpktLmHN"
      },
      "source": [
        "#### Checking The Classification Accuracy"
      ]
    },
    {
      "cell_type": "code",
      "metadata": {
        "colab": {
          "base_uri": "https://localhost:8080/"
        },
        "id": "RFjYb6WDJTxd",
        "outputId": "5066c525-de75-4099-fa40-fbc996d25d2f"
      },
      "source": [
        "import numpy as np\n",
        "\n",
        "# Load the results\n",
        "with np.load('logs/mnist_logistic/S=2 tau=1/results.npz') as file:\n",
        "  w,b,xm,xd = file['w'], file['b'], file['xm'], file['xd']\n",
        "\n",
        "# Load the dataset\n",
        "with np.load('mnist_14.npz') as file:\n",
        "  X_train, Y_train, X_test, Y_test = file['X_train'], file['Y_train'],\\\n",
        "                                      file['X_test'], file['Y_test']\n",
        "\n",
        "# Rescale and reshape\n",
        "X_train = X_train.reshape(-1,14*14).astype('float32')/255\n",
        "X_test = X_test.reshape(-1,14*14).astype('float32')/255\n",
        "\n",
        "# Normalize\n",
        "X_train = (X_train - xm)/xd\n",
        "X_test = (X_test - xm)/xd\n",
        "\n",
        "# Produce predictions\n",
        "Y_train_pred = np.argmax( X_train @ w + b , axis= -1)\n",
        "Y_test_pred = np.argmax( X_test @ w + b , axis= -1)\n",
        "\n",
        "\n",
        "\n",
        "# Get accuracies\n",
        "train_acc = np.sum(Y_train==Y_train_pred)/len(Y_train)\n",
        "test_acc = np.sum(Y_test==Y_test_pred)/len(Y_test)\n",
        "\n",
        "print(f'Training Accuracy \\t = {train_acc*100:.2f} %')\n",
        "print(f'Test Accuracy \\t = {test_acc*100:.2f} %')"
      ],
      "execution_count": 10,
      "outputs": [
        {
          "output_type": "stream",
          "text": [
            "Training Accuracy \t = 91.72 %\n",
            "Test Accuracy \t = 91.78 %\n"
          ],
          "name": "stdout"
        }
      ]
    },
    {
      "cell_type": "markdown",
      "metadata": {
        "id": "o0ldt4FfMFL9"
      },
      "source": [
        "## Using the Plotting Tool"
      ]
    },
    {
      "cell_type": "markdown",
      "metadata": {
        "id": "D08BIa1lODd1"
      },
      "source": [
        "Specify the designated folder and run the tool"
      ]
    },
    {
      "cell_type": "code",
      "metadata": {
        "id": "q0dZ5SxfL2gK"
      },
      "source": [
        "!python plotting_tool.py 'logs/mnist_logistic'"
      ],
      "execution_count": 11,
      "outputs": []
    },
    {
      "cell_type": "markdown",
      "metadata": {
        "id": "ELo9I_DQOMaV"
      },
      "source": [
        "The plots have been generated in the figures directory."
      ]
    },
    {
      "cell_type": "code",
      "metadata": {
        "colab": {
          "base_uri": "https://localhost:8080/",
          "height": 497
        },
        "id": "Yr6KC9eUM2Bm",
        "outputId": "058c4dab-2802-4bf0-dc28-7da44542d51c"
      },
      "source": [
        "from PIL import Image\n",
        "img = Image.open('logs/mnist_logistic/Figures/Test Loss vs. Global Step.png')\n",
        "img.resize((640,480))"
      ],
      "execution_count": 12,
      "outputs": [
        {
          "output_type": "execute_result",
          "data": {
            "image/png": "[encoded data removed]",
            "text/plain": [
              "<PIL.Image.Image image mode=RGBA size=640x480 at 0x7FD81B3A8278>"
            ]
          },
          "metadata": {
            "tags": []
          },
          "execution_count": 12
        }
      ]
    }
  ]
}